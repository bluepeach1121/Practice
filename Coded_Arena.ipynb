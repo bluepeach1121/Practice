{
  "cells": [
    {
      "cell_type": "markdown",
      "metadata": {
        "id": "view-in-github",
        "colab_type": "text"
      },
      "source": [
        "<a href=\"https://colab.research.google.com/github/bluepeach1121/Practice/blob/main/Coded_Arena.ipynb\" target=\"_parent\"><img src=\"https://colab.research.google.com/assets/colab-badge.svg\" alt=\"Open In Colab\"/></a>"
      ]
    },
    {
      "cell_type": "code",
      "source": [
        "#Create a list of strings.\n",
        "letters = [\"A\", \"B\", \"C\", \"D\", \"C\", \"E\", \"C\"]\n",
        "while 'C' in letters:\n",
        "  letters.remove('C')\n",
        "print(letters)"
      ],
      "metadata": {
        "colab": {
          "base_uri": "https://localhost:8080/"
        },
        "id": "UNj0nObhEGna",
        "outputId": "8bd44ad0-b3de-4232-f683-ac0791856f4b"
      },
      "execution_count": null,
      "outputs": [
        {
          "output_type": "stream",
          "name": "stdout",
          "text": [
            "['A', 'B', 'D', 'E']\n"
          ]
        }
      ]
    },
    {
      "cell_type": "code",
      "source": [
        "grades = [\"C\", \"B\", \"A\", \"D\", \"C\", \"B\", \"F\", \"C\"]\n",
        "# Decide what to look for\n",
        "look_for = \"F\"\n",
        "# See if the item is in the list.\n",
        "if look_for in grades:\n",
        " # If it's in the list, get and show the index.\n",
        " print(str(look_for) + \" is at index \" + str(grades.index(look_for)))\n",
        "else:\n",
        " # If not in the list, don't even try for index number.\n",
        " print(str(look_for) + \" isn't in the list.\")"
      ],
      "metadata": {
        "colab": {
          "base_uri": "https://localhost:8080/"
        },
        "id": "2dO0azZoIxTe",
        "outputId": "686ef138-dafe-4025-822b-36212ceeedd6"
      },
      "execution_count": null,
      "outputs": [
        {
          "output_type": "stream",
          "name": "stdout",
          "text": [
            "F is at index 6\n"
          ]
        }
      ]
    }
  ],
  "metadata": {
    "colab": {
      "collapsed_sections": [],
      "name": "Coded Arena",
      "provenance": [],
      "history_visible": true,
      "include_colab_link": true
    },
    "kernelspec": {
      "display_name": "Python 3",
      "name": "python3"
    },
    "language_info": {
      "name": "python"
    }
  },
  "nbformat": 4,
  "nbformat_minor": 0
}